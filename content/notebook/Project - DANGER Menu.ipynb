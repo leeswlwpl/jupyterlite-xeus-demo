{
  "cells": [
    {
      "cell_type": "markdown",
      "metadata": {
        "id": "FxeJ5uH6bszN"
      },
      "source": [
        "## DANGER Menu"
      ]
    },
    {
      "cell_type": "markdown",
      "metadata": {
        "id": "ztPlTIvcbszQ"
      },
      "source": [
        "1. We have four different menus: brunch, early-bird, dinner, and kids. Create a `Menu` class ."
      ]
    },
    {
      "cell_type": "code",
      "execution_count": null,
      "metadata": {
        "id": "KbyZK2teJ-YW"
      },
      "outputs": [],
      "source": [
        "# Type your code below\n"
      ]
    },
    {
      "cell_type": "markdown",
      "metadata": {
        "id": "hg2I3qyEbszS"
      },
      "source": [
        "2. Give `Menu` a constructor with the five parameters `self`, `name`, `items`, `start_time`, and `end_time`."
      ]
    },
    {
      "cell_type": "code",
      "execution_count": null,
      "metadata": {
        "id": "o37r5V4ubszU"
      },
      "outputs": [],
      "source": [
        "# Type your code below\n"
      ]
    },
    {
      "cell_type": "markdown",
      "metadata": {
        "id": "C29o6wiYbszZ"
      },
      "source": [
        "3. Let’s create our first menu: brunch. Brunch is served from 11am to 4pm. The following `items` are sold during brunch:\n",
        "\n",
        "```python\n",
        "{\n",
        "    'pancakes': 7.50,\n",
        "    'waffles': 9.00,\n",
        "    'burger': 11.00,\n",
        "    'home fries': 4.50,\n",
        "    'coffee': 1.50,\n",
        "    'espresso': 3.00,\n",
        "    'tea': 1.00,\n",
        "    'mimosa': 10.50,\n",
        "    'orange juice': 3.50\n",
        "}\n",
        "```"
      ]
    },
    {
      "cell_type": "code",
      "execution_count": null,
      "metadata": {
        "id": "yqAZAfggbszZ"
      },
      "outputs": [],
      "source": [
        "# Type your code below\n"
      ]
    },
    {
      "cell_type": "markdown",
      "metadata": {
        "id": "ZMkL3KkXbszb"
      },
      "source": [
        "4. Let’s create our second menu item early_bird. Early-bird Dinners are served from 3pm to 6pm. The following items are available during the early-bird menu:\n",
        "\n",
        "```python\n",
        "{\n",
        "    'salumeria plate': 8.00,\n",
        "    'salad and breadsticks (serves 2, no refills)': 14.00,\n",
        "    'pizza with quattro formaggi': 9.00,\n",
        "    'duck ragu': 17.50,\n",
        "    'mushroom ravioli (vegan)': 13.50,\n",
        "    'coffee': 1.50,\n",
        "    'espresso': 3.00\n",
        "}\n",
        "```"
      ]
    },
    {
      "cell_type": "code",
      "execution_count": null,
      "metadata": {
        "id": "2OBTkhi2bszc"
      },
      "outputs": [],
      "source": [
        "# Type your code below\n"
      ]
    },
    {
      "cell_type": "markdown",
      "metadata": {
        "id": "4qEm67Aabsze"
      },
      "source": [
        "5. Let’s create our third menu, dinner. Dinner is served from 5pm to 11pm. The following items are available for dinner:\n",
        "\n",
        "```python\n",
        "{\n",
        "    'crostini with eggplant caponata': 13.00,\n",
        "    'ceaser salad': 16.00,\n",
        "    'pizza with quattro formaggi': 11.00,\n",
        "    'duck ragu': 19.50,\n",
        "    'mushroom ravioli': 13.50,\n",
        "    'coffee': 2.00,\n",
        "    'espresso': 3.00\n",
        "}\n",
        "```"
      ]
    },
    {
      "cell_type": "code",
      "execution_count": null,
      "metadata": {
        "id": "cbYchbLRbsze"
      },
      "outputs": [],
      "source": [
        "# Type your code below\n"
      ]
    },
    {
      "cell_type": "markdown",
      "metadata": {
        "id": "WrH2vfSmbszg"
      },
      "source": [
        "6. And let’s create our last menu, kids. The kids menu is available from 11am until 9pm. The following items are available on the kids menu\n",
        "\n",
        "```python\n",
        "{\n",
        "    'chicken nuggets': 6.50,\n",
        "    'fusilli with wild mushrooms': 12.00,\n",
        "    'apple juice': 3.00\n",
        "}\n",
        "```"
      ]
    },
    {
      "cell_type": "code",
      "execution_count": null,
      "metadata": {
        "id": "plKyt_J2bszg"
      },
      "outputs": [],
      "source": [
        "# Type your code below\n"
      ]
    },
    {
      "cell_type": "markdown",
      "metadata": {
        "id": "lRqQl2QAbszi"
      },
      "source": [
        "7. Give our Menu class a string representation method(```__repr__```) that will tell you the name of the menu. Also, indicate in this representation when the menu is available."
      ]
    },
    {
      "cell_type": "code",
      "execution_count": null,
      "metadata": {
        "id": "RQkxLAbXW6Oz"
      },
      "outputs": [],
      "source": [
        "print(brunch_menu)"
      ]
    },
    {
      "cell_type": "code",
      "execution_count": null,
      "metadata": {
        "id": "c9ojbgPQbszj"
      },
      "outputs": [],
      "source": [
        "# Type your code below\n"
      ]
    },
    {
      "cell_type": "markdown",
      "metadata": {
        "id": "NR6zZVikbszl"
      },
      "source": [
        "8. Try out our string representation. If you call `print(brunch_menu)` it should print out something like the following:\n",
        "\n",
        "```\n",
        "brunch menu available from 11am to 4 pm\n",
        "```"
      ]
    },
    {
      "cell_type": "code",
      "execution_count": null,
      "metadata": {
        "id": "ZRh__G0Lbszm"
      },
      "outputs": [],
      "source": [
        "# Type your code below\n"
      ]
    },
    {
      "cell_type": "markdown",
      "metadata": {
        "id": "LvYV2ab_bszq"
      },
      "source": [
        "9. Give Menu a method .calculate_bill() that has two parameters: `self`, and `purchased_items`, a list of the names of purchased items.\n",
        "\n",
        "Have `calculate_bill` return the total price of a purchase consisiting of all the items in `purchased_items`."
      ]
    },
    {
      "cell_type": "code",
      "execution_count": null,
      "metadata": {
        "id": "RszkKTlpbszq"
      },
      "outputs": [],
      "source": [
        "# Type your code below\n"
      ]
    },
    {
      "cell_type": "markdown",
      "metadata": {
        "id": "d7TnDRw9bszs"
      },
      "source": [
        "10. Test out `Menu.calculate_bill()`. We have a breakfast order for one order of `pancakes`, one order of `home fries`, and one `coffee`. Pass that into `brunch_menu.calculate_bill()` and print out the price. You should get 13.5"
      ]
    },
    {
      "cell_type": "code",
      "execution_count": null,
      "metadata": {
        "id": "BpLQbznSbszt"
      },
      "outputs": [],
      "source": [
        "# Type your code below\n"
      ]
    },
    {
      "cell_type": "markdown",
      "metadata": {
        "id": "KZf0WThubszv"
      },
      "source": [
        "11. What about an early-bird purchase? Our last guests ordered the `salumeria plate` and the `mushroom ravioli`. Calculate the bill with .caluclate_bill(). You should get 21.5"
      ]
    },
    {
      "cell_type": "code",
      "execution_count": null,
      "metadata": {
        "id": "vhQk6i8nbszv"
      },
      "outputs": [],
      "source": [
        "# Type your code below\n"
      ]
    }
  ],
  "metadata": {
    "colab": {
      "provenance": []
    },
    "kernelspec": {
      "display_name": "Python 3",
      "language": "python",
      "name": "python3"
    },
    "language_info": {
      "codemirror_mode": {
        "name": "ipython",
        "version": 3
      },
      "file_extension": ".py",
      "mimetype": "text/x-python",
      "name": "python",
      "nbconvert_exporter": "python",
      "pygments_lexer": "ipython3",
      "version": "3.7.4"
    }
  },
  "nbformat": 4,
  "nbformat_minor": 0
}
