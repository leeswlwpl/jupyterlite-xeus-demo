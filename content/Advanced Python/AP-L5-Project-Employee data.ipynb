{
  "metadata": {
    "kernelspec": {
      "name": "python3",
      "display_name": "Python 3 (ipykernel)",
      "language": "python"
    },
    "language_info": {
      "name": "python",
      "version": "3.11.3",
      "mimetype": "text/x-python",
      "codemirror_mode": {
        "name": "ipython",
        "version": 3
      },
      "pygments_lexer": "ipython3",
      "nbconvert_exporter": "python",
      "file_extension": ".py"
    },
    "colab": {
      "provenance": [],
      "toc_visible": true
    }
  },
  "nbformat_minor": 0,
  "nbformat": 4,
  "cells": [
    {
      "cell_type": "markdown",
      "source": [
        "### Employee Data"
      ],
      "metadata": {
        "id": "OvM_JWwfVOMY"
      }
    },
    {
      "cell_type": "markdown",
      "source": [
        "#### Exercise 1"
      ],
      "metadata": {
        "id": "U1mXxtKg3RGq"
      }
    },
    {
      "cell_type": "code",
      "source": [
        "employee_df = pd.read_csv(\"https://drive.google.com/u/1/uc?id=1d5MX8MBucLfrRkrxMyrXPMmcp4AzeNk7&export=download\")"
      ],
      "metadata": {
        "id": "oYTH33Q0VOMe"
      },
      "outputs": [],
      "execution_count": null
    },
    {
      "cell_type": "markdown",
      "source": [
        "> The DataFrame `employee_df` represents the hours worked by different employees over the course of the week.\n",
        "\n",
        "1. Create a lambda function `get_last_name` which takes a string with someone’s name and returns just the last name\n",
        "\n",
        "2. Use the lambda function `get_last_name` to create a new column `last_name` with only the employees’ last name."
      ],
      "metadata": {
        "id": "qGpEaQRXVOMf"
      }
    },
    {
      "cell_type": "code",
      "source": [
        "import pandas as pd\n",
        "\n",
        "# Type your code here"
      ],
      "metadata": {
        "id": "VuWwttVvVOMf"
      },
      "outputs": [],
      "execution_count": null
    },
    {
      "cell_type": "markdown",
      "source": [
        "If an employee worked for more than 40 hours, she needs to be paid overtime (1.5 times the normal hourly wage).\n",
        "\n",
        "\n",
        "\n",
        "For instance, if an employee worked for 43 hours and made 10 dollars per hour, she would receive 400 dollars for the first 40 hours that she worked, and an additional 45 dollars for the 3 hours of overtime, for a total for 445 dollars.\n",
        "\n",
        "\n",
        "\n",
        "1. Create a function `total_earned` that accepts an input row with keys `hours_worked` and `hourly_wage` and uses an if statement to calculate the hourly wage.\n",
        "\n",
        "2. Use the function `total_earned` and apply to add a column `total_earned` to `df` with the total amount earned by each employee."
      ],
      "metadata": {
        "id": "9HvY8rsbVOMf"
      }
    },
    {
      "cell_type": "code",
      "source": [
        "# Type your code here\n"
      ],
      "metadata": {
        "id": "37XayHP6VOMf"
      },
      "outputs": [],
      "execution_count": null
    },
    {
      "cell_type": "markdown",
      "source": [
        "#### Exercise 2"
      ],
      "metadata": {
        "id": "p5ArKqel3V3e"
      }
    },
    {
      "cell_type": "markdown",
      "source": [
        "On `PP-L2-shoefly.csv`\n",
        "\n",
        "\n",
        "\n",
        "1. Examine the first 5 rows of the data using print and head.\n",
        "\n",
        "2. Many of our customers want to buy vegan shoes (shoes made from materials that do not come from animals). Add a new column called `shoe_source`, which is vegan if the materials is not leather and animal otherwise.\n",
        "\n",
        "3. Our marketing department wants to send out an email to each customer. Using the columns last_name and gender create a column called `salutation` which contains Dear Mr. *last_name* for men and Dear Ms. *last_name* for women."
      ],
      "metadata": {
        "id": "hcLOKngSVOMf"
      }
    },
    {
      "cell_type": "code",
      "source": [
        "shoefly_df = pd.read_csv(\"https://drive.google.com/u/1/uc?id=1TxuhuoNCG8y4nvnAPxtq7-N7NI7X4dG1&export=download\")\n",
        "import pandas as pd\n",
        "\n",
        "# Type your code here"
      ],
      "metadata": {
        "id": "7YwZ-zfOVOMf"
      },
      "outputs": [],
      "execution_count": null
    }
  ]
}