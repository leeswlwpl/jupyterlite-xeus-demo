{
  "nbformat": 4,
  "nbformat_minor": 0,
  "metadata": {
    "colab": {
      "provenance": []
    },
    "kernelspec": {
      "name": "python3",
      "display_name": "Python 3"
    },
    "language_info": {
      "name": "python"
    }
  },
  "cells": [
    {
      "cell_type": "markdown",
      "source": [
        "## (25 marks) Q2. Glucose level prediction (1/5)"
      ],
      "metadata": {
        "id": "z4TmKmrfB2bt"
      }
    },
    {
      "cell_type": "markdown",
      "source": [
        "The dataset includes readings of a human body at a particular moment.\n",
        "\n",
        "We wish to build a model to predict glucose levels using other readings.\n",
        "\n",
        "Ref data: [Here](https://drive.google.com/file/d/1dQ8qsxAXwRM__UM7lRbjQYk79rHK8oP4/view)<br>\n",
        "\n",
        "FYI. Glucose level reference<br>\n",
        "\n",
        "Very Healthy: < 120<br>\n",
        "Healthy: 120-140<br>\n",
        "At-Risk: 140-180<br>\n",
        "Diabetic: 180-250<br>\n",
        "Action Recommended: >250\n"
      ],
      "metadata": {
        "id": "hewhHpp8B3To"
      }
    },
    {
      "cell_type": "markdown",
      "source": [
        "(3 marks) Q2a. State the following:\n",
        "\n",
        "Is the task a regression or classification?<br>\n",
        "Which evaluation metric would you choose?<br>\n",
        "What is the range of evaluation metric?"
      ],
      "metadata": {
        "id": "Ck93tqvMB8AJ"
      }
    },
    {
      "cell_type": "code",
      "source": [
        "import pandas as pd\n",
        "df = pd.read_csv(\"https://drive.google.com/u/1/uc?id=1v4ygKg8l2Iae5rcOQTP5Uylqy70uMVwU&export=download\")\n",
        "df"
      ],
      "metadata": {
        "id": "fmVDerykB-2c"
      },
      "execution_count": null,
      "outputs": []
    },
    {
      "cell_type": "markdown",
      "source": [
        "(3 marks) Q2b. Use a chart to visualize the distribution of Glucose values."
      ],
      "metadata": {
        "id": "FAyzCooGCMpU"
      }
    },
    {
      "cell_type": "code",
      "source": [],
      "metadata": {
        "id": "zhCezm6PCWZw"
      },
      "execution_count": null,
      "outputs": []
    },
    {
      "cell_type": "markdown",
      "source": [
        "(6 marks) Q2c. Find out the correlation between glucose and other readings. What are the top 5 correlated (or negatively correlated) readings? Show your result in a pandas series."
      ],
      "metadata": {
        "id": "4hkBZYn_CWps"
      }
    },
    {
      "cell_type": "code",
      "source": [],
      "metadata": {
        "id": "tNEvnaEJCYiL"
      },
      "execution_count": null,
      "outputs": []
    },
    {
      "cell_type": "markdown",
      "source": [
        "(10 marks) Q2d. Build a regression model using linear regression. Your code should include:\n",
        "\n",
        "Train test split<br>\n",
        "Feature engineering<br>\n",
        "Model creation<br>\n",
        "Evaluation<br>"
      ],
      "metadata": {
        "id": "scQ3jLz6ClnZ"
      }
    },
    {
      "cell_type": "code",
      "source": [],
      "metadata": {
        "id": "2vsTII2MCpPx"
      },
      "execution_count": null,
      "outputs": []
    },
    {
      "cell_type": "markdown",
      "source": [
        "(3 marks) Q2e. Comment on the result."
      ],
      "metadata": {
        "id": "U_IR2eiXCsvy"
      }
    },
    {
      "cell_type": "code",
      "source": [],
      "metadata": {
        "id": "wyNq9vVQCtIm"
      },
      "execution_count": null,
      "outputs": []
    }
  ]
}